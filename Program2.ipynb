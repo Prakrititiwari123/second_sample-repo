{
  "nbformat": 4,
  "nbformat_minor": 0,
  "metadata": {
    "colab": {
      "provenance": []
    },
    "kernelspec": {
      "name": "python3",
      "display_name": "Python 3"
    },
    "language_info": {
      "name": "python"
    }
  },
  "cells": [
    {
      "cell_type": "code",
      "execution_count": null,
      "metadata": {
        "colab": {
          "base_uri": "https://localhost:8080/",
          "height": 130
        },
        "id": "hF7mMn4yP5J7",
        "outputId": "59378c52-0eea-4b40-9782-6cb61edfaaca"
      },
      "outputs": [
        {
          "output_type": "error",
          "ename": "SyntaxError",
          "evalue": "ignored",
          "traceback": [
            "\u001b[0;36m  File \u001b[0;32m\"<ipython-input-2-845fcda0378d>\"\u001b[0;36m, line \u001b[0;32m1\u001b[0m\n\u001b[0;31m    print'hello python'\u001b[0m\n\u001b[0m         ^\u001b[0m\n\u001b[0;31mSyntaxError\u001b[0m\u001b[0;31m:\u001b[0m invalid syntax\n"
          ]
        }
      ],
      "source": [
        "print'hello python'"
      ]
    },
    {
      "cell_type": "markdown",
      "source": [
        "#### Python output"
      ],
      "metadata": {
        "id": "dY9mQ41KUtyq"
      }
    },
    {
      "cell_type": "code",
      "source": [
        "print('hii')"
      ],
      "metadata": {
        "colab": {
          "base_uri": "https://localhost:8080/"
        },
        "id": "1gXDOhPUU45c",
        "outputId": "90a653a9-fed6-42a0-aae1-18bfdb058177"
      },
      "execution_count": null,
      "outputs": [
        {
          "output_type": "stream",
          "name": "stdout",
          "text": [
            "hii\n"
          ]
        }
      ]
    },
    {
      "cell_type": "code",
      "source": [
        "name='Premalata'"
      ],
      "metadata": {
        "id": "HAK6Ki0XQX5T"
      },
      "execution_count": null,
      "outputs": []
    },
    {
      "cell_type": "code",
      "source": [
        "print('hello world')"
      ],
      "metadata": {
        "colab": {
          "base_uri": "https://localhost:8080/"
        },
        "id": "g24IKUbSQoIF",
        "outputId": "00f8c430-d5a9-4415-bae3-e22adb352787"
      },
      "execution_count": null,
      "outputs": [
        {
          "output_type": "stream",
          "name": "stdout",
          "text": [
            "hello world\n"
          ]
        }
      ]
    },
    {
      "cell_type": "code",
      "source": [
        "print('Premlata')"
      ],
      "metadata": {
        "colab": {
          "base_uri": "https://localhost:8080/"
        },
        "id": "begv0pLFQ6-M",
        "outputId": "43ff0555-ca12-4907-b24a-7b21b59e1a32"
      },
      "execution_count": null,
      "outputs": [
        {
          "output_type": "stream",
          "name": "stdout",
          "text": [
            "Premlata\n"
          ]
        }
      ]
    },
    {
      "cell_type": "code",
      "source": [
        "PRINT ('Python')"
      ],
      "metadata": {
        "colab": {
          "base_uri": "https://localhost:8080/",
          "height": 165
        },
        "id": "SyaBbS7QRIYf",
        "outputId": "8f116abf-ecc2-4e25-8c2f-caa5c749088e"
      },
      "execution_count": null,
      "outputs": [
        {
          "output_type": "error",
          "ename": "NameError",
          "evalue": "ignored",
          "traceback": [
            "\u001b[0;31m---------------------------------------------------------------------------\u001b[0m",
            "\u001b[0;31mNameError\u001b[0m                                 Traceback (most recent call last)",
            "\u001b[0;32m<ipython-input-7-3085fef946f4>\u001b[0m in \u001b[0;36m<module>\u001b[0;34m\u001b[0m\n\u001b[0;32m----> 1\u001b[0;31m \u001b[0mPRINT\u001b[0m \u001b[0;34m(\u001b[0m\u001b[0;34m'Python'\u001b[0m\u001b[0;34m)\u001b[0m\u001b[0;34m\u001b[0m\u001b[0;34m\u001b[0m\u001b[0m\n\u001b[0m",
            "\u001b[0;31mNameError\u001b[0m: name 'PRINT' is not defined"
          ]
        }
      ]
    },
    {
      "cell_type": "code",
      "source": [
        "print('Python')"
      ],
      "metadata": {
        "colab": {
          "base_uri": "https://localhost:8080/"
        },
        "id": "LVRi2TXxRXNI",
        "outputId": "98f864ca-247d-4804-8ecc-72c8013617b4"
      },
      "execution_count": null,
      "outputs": [
        {
          "output_type": "stream",
          "name": "stdout",
          "text": [
            "Python\n"
          ]
        }
      ]
    },
    {
      "cell_type": "code",
      "source": [
        "print ('hello jaya')"
      ],
      "metadata": {
        "colab": {
          "base_uri": "https://localhost:8080/"
        },
        "id": "6JVrDxYpRhQf",
        "outputId": "027caf69-269e-42f6-cd3b-a0cf4e2fe1c0"
      },
      "execution_count": null,
      "outputs": [
        {
          "output_type": "stream",
          "name": "stdout",
          "text": [
            "hello jaya\n"
          ]
        }
      ]
    },
    {
      "cell_type": "code",
      "source": [
        "print('what is ur name ')"
      ],
      "metadata": {
        "colab": {
          "base_uri": "https://localhost:8080/"
        },
        "id": "BLO2UZB6RwRM",
        "outputId": "e0d407ce-ac32-4948-ab6b-f148a6f53329"
      },
      "execution_count": null,
      "outputs": [
        {
          "output_type": "stream",
          "name": "stdout",
          "text": [
            "what is ur name \n"
          ]
        }
      ]
    },
    {
      "cell_type": "code",
      "source": [
        "print('how do you do')"
      ],
      "metadata": {
        "colab": {
          "base_uri": "https://localhost:8080/"
        },
        "id": "LssWk2MTR4my",
        "outputId": "4997b3e9-3593-4ff3-ce83-143bdc56e368"
      },
      "execution_count": null,
      "outputs": [
        {
          "output_type": "stream",
          "name": "stdout",
          "text": [
            "how do you do\n"
          ]
        }
      ]
    },
    {
      "cell_type": "code",
      "source": [
        "print('how old are you')"
      ],
      "metadata": {
        "colab": {
          "base_uri": "https://localhost:8080/"
        },
        "id": "5qUQkUzWR-rp",
        "outputId": "aab57246-df89-4cd8-c65c-2bb6fd0e36fb"
      },
      "execution_count": null,
      "outputs": [
        {
          "output_type": "stream",
          "name": "stdout",
          "text": [
            "how old are you\n"
          ]
        }
      ]
    },
    {
      "cell_type": "code",
      "source": [
        "print('hello kajal')"
      ],
      "metadata": {
        "colab": {
          "base_uri": "https://localhost:8080/"
        },
        "id": "05eahGWMSF7J",
        "outputId": "baaaaaf7-d3eb-47a8-d393-0673bfebcabd"
      },
      "execution_count": null,
      "outputs": [
        {
          "output_type": "stream",
          "name": "stdout",
          "text": [
            "hello kajal\n"
          ]
        }
      ]
    },
    {
      "cell_type": "code",
      "source": [
        "print('5')"
      ],
      "metadata": {
        "colab": {
          "base_uri": "https://localhost:8080/"
        },
        "id": "wiflbZX-SKhl",
        "outputId": "a0f3d507-48f6-4218-9317-f5811dc6b235"
      },
      "execution_count": null,
      "outputs": [
        {
          "output_type": "stream",
          "name": "stdout",
          "text": [
            "5\n"
          ]
        }
      ]
    },
    {
      "cell_type": "code",
      "source": [
        "print('6.9')"
      ],
      "metadata": {
        "colab": {
          "base_uri": "https://localhost:8080/"
        },
        "id": "4U6blVSzThsv",
        "outputId": "6694d5f8-ecae-4613-f294-09a3fd84e1e7"
      },
      "execution_count": null,
      "outputs": [
        {
          "output_type": "stream",
          "name": "stdout",
          "text": [
            "6.9\n"
          ]
        }
      ]
    },
    {
      "cell_type": "code",
      "source": [
        "Python IS CASE SENSITIVE"
      ],
      "metadata": {
        "colab": {
          "base_uri": "https://localhost:8080/",
          "height": 130
        },
        "id": "9l2ZGeuLTn1i",
        "outputId": "bfb358b0-960a-494d-959a-84222c3d91e4"
      },
      "execution_count": null,
      "outputs": [
        {
          "output_type": "error",
          "ename": "SyntaxError",
          "evalue": "ignored",
          "traceback": [
            "\u001b[0;36m  File \u001b[0;32m\"<ipython-input-16-bd70adce4fc3>\"\u001b[0;36m, line \u001b[0;32m1\u001b[0m\n\u001b[0;31m    Python IS CASE SENSITIVE\u001b[0m\n\u001b[0m           ^\u001b[0m\n\u001b[0;31mSyntaxError\u001b[0m\u001b[0;31m:\u001b[0m invalid syntax\n"
          ]
        }
      ]
    },
    {
      "cell_type": "code",
      "source": [
        "###Python is case sensitive"
      ],
      "metadata": {
        "id": "x64-as4JT-6W"
      },
      "execution_count": null,
      "outputs": []
    },
    {
      "cell_type": "code",
      "source": [],
      "metadata": {
        "id": "We3EIJs4UKdJ"
      },
      "execution_count": null,
      "outputs": []
    }
  ]
}